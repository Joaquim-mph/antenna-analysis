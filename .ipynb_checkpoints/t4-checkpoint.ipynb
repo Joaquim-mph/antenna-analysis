{
 "cells": [
  {
   "cell_type": "code",
   "execution_count": 1,
   "metadata": {},
   "outputs": [],
   "source": [
    "import logging\n",
    "from utils import *\n",
    "import numpy as np\n",
    "import scienceplots \n",
    "\n",
    "plt.style.use(['science','notebook'])"
   ]
  },
  {
   "cell_type": "code",
   "execution_count": 2,
   "metadata": {},
   "outputs": [
    {
     "name": "stderr",
     "output_type": "stream",
     "text": [
      "ERROR:root:Error loading measured data: [Errno 2] No such file or directory: 'src/csv/pabloT4/S11_real_3G.csv'\n",
      "ERROR:root:Error loading simulated data: [Errno 2] No such file or directory: 'src/csv/pabloT4/S11_simulado_6GHz.csv'\n"
     ]
    },
    {
     "ename": "NameError",
     "evalue": "name 'measured_data' is not defined",
     "output_type": "error",
     "traceback": [
      "\u001b[0;31m---------------------------------------------------------------------------\u001b[0m",
      "\u001b[0;31mNameError\u001b[0m                                 Traceback (most recent call last)",
      "\u001b[0;32m/var/folders/w3/g0rz5r1d2_55wnggnt8vml180000gn/T/ipykernel_8757/3188067189.py\u001b[0m in \u001b[0;36m<module>\u001b[0;34m\u001b[0m\n\u001b[1;32m     22\u001b[0m \u001b[0;31m# Create the dataset information for plotting\u001b[0m\u001b[0;34m\u001b[0m\u001b[0;34m\u001b[0m\u001b[0m\n\u001b[1;32m     23\u001b[0m measured_dataset_info = {\n\u001b[0;32m---> 24\u001b[0;31m     \u001b[0;34m'data'\u001b[0m\u001b[0;34m:\u001b[0m \u001b[0mmeasured_data\u001b[0m\u001b[0;34m,\u001b[0m\u001b[0;34m\u001b[0m\u001b[0;34m\u001b[0m\u001b[0m\n\u001b[0m\u001b[1;32m     25\u001b[0m     \u001b[0;34m'label'\u001b[0m\u001b[0;34m:\u001b[0m \u001b[0;34m'Measured S11'\u001b[0m\u001b[0;34m,\u001b[0m\u001b[0;34m\u001b[0m\u001b[0;34m\u001b[0m\u001b[0m\n\u001b[1;32m     26\u001b[0m     \u001b[0;34m'frequency_column'\u001b[0m\u001b[0;34m:\u001b[0m \u001b[0;34m'Frequency'\u001b[0m\u001b[0;34m,\u001b[0m\u001b[0;34m\u001b[0m\u001b[0;34m\u001b[0m\u001b[0m\n",
      "\u001b[0;31mNameError\u001b[0m: name 'measured_data' is not defined"
     ]
    }
   ],
   "source": [
    "file_path_measured = 'src/csv/pabloT4/S11_real_3G.csv'\n",
    "file_path_simulated = 'src/csv/pabloT4/S11_simulado_6GHz.csv'\n",
    "file_path_radiation = 'src/csv/pabloT4/pattern_2.csv'  # Radiation pattern file\n",
    "\n",
    "# Load the measured S11 data\n",
    "try:\n",
    "    measured_data = load_s11_data(file_path_measured, delimiter=';', decimal='.', frequency_column='Frequency', s11_column='S11-Gain (dB)', frequency_factor=1e-9)\n",
    "    logging.info(\"Measured data loaded successfully.\")\n",
    "except Exception as e:\n",
    "    logging.error(f\"Error loading measured data: {e}\")\n",
    "\n",
    "\n",
    "# Load the simulated S11 data\n",
    "try:\n",
    "    simulated_data = load_s11_data(file_path_simulated, delimiter=',', decimal='.', frequency_column='Freq [GHz]', s11_column='dB(S(1,1)) []', frequency_factor=1)\n",
    "    logging.info(\"Simulated data loaded successfully.\")\n",
    "except Exception as e:\n",
    "    logging.error(f\"Error loading simulated data: {e}\")\n",
    "\n",
    "\n",
    "\n",
    "# Create the dataset information for plotting\n",
    "measured_dataset_info = {\n",
    "    'data': measured_data,\n",
    "    'label': 'Measured S11',\n",
    "    'frequency_column': 'Frequency',\n",
    "    's11_column': 'S11-Gain (dB)',\n",
    "    'marker': 'o',\n",
    "    'linestyle': '-',\n",
    "    'color': 'navy'\n",
    "}\n",
    "\n",
    "simulated_dataset_info = {\n",
    "    'data': simulated_data,\n",
    "    'label': 'Simulated S11',\n",
    "    'frequency_column': 'Freq [GHz]',\n",
    "    's11_column': 'dB(S(1,1)) []',\n",
    "    'marker': '',\n",
    "    'linestyle': '-',\n",
    "    'color': 'red'\n",
    "}\n",
    "\n",
    "\n",
    "# Call the plot function with all three datasets\n",
    "plot_s11_datasets([measured_dataset_info, simulated_dataset_info], xlabel='Frequency (GHz)', ylabel='S11 (dB)', title='Measured vs Simulated S11 Data')\n",
    "# Plot horizontal line at -10 dB threshold\n",
    "plot_horizontal_line(\n",
    "    y_value=-10,  # The y-coordinate where you want the horizontal line\n",
    "    label='-10 dB Threshold',\n",
    "    color='black',\n",
    "    linestyle='--',\n",
    "    linewidth=1\n",
    ")\n",
    "\n",
    "# Enable the grid\n",
    "plt.grid(True)\n",
    "\n",
    "# Set x-axis limits\n",
    "plt.xlim(2, 3)\n",
    "plt.show()"
   ]
  },
  {
   "cell_type": "code",
   "execution_count": null,
   "metadata": {},
   "outputs": [],
   "source": []
  }
 ],
 "metadata": {
  "kernelspec": {
   "display_name": "Python 3 (ipykernel)",
   "language": "python",
   "name": "python3"
  },
  "language_info": {
   "codemirror_mode": {
    "name": "ipython",
    "version": 3
   },
   "file_extension": ".py",
   "mimetype": "text/x-python",
   "name": "python",
   "nbconvert_exporter": "python",
   "pygments_lexer": "ipython3",
   "version": "3.9.15"
  }
 },
 "nbformat": 4,
 "nbformat_minor": 2
}
